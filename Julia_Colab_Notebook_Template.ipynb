{
  "nbformat": 4,
  "nbformat_minor": 0,
  "metadata": {
    "colab": {
      "provenance": [],
      "machine_shape": "hm",
      "include_colab_link": true
    },
    "kernelspec": {
      "display_name": "Julia",
      "name": "julia"
    },
    "language_info": {
      "file_extension": ".jl",
      "mimetype": "application/julia",
      "name": "julia"
    }
  },
  "cells": [
    {
      "cell_type": "markdown",
      "metadata": {
        "id": "view-in-github",
        "colab_type": "text"
      },
      "source": [
        "<a href=\"https://colab.research.google.com/github/Dhruba531/CSE225OlympicProject/blob/main/Julia_Colab_Notebook_Template.ipynb\" target=\"_parent\"><img src=\"https://colab.research.google.com/assets/colab-badge.svg\" alt=\"Open In Colab\"/></a>"
      ]
    },
    {
      "cell_type": "markdown",
      "metadata": {
        "id": "tQ1r1bbb0yBv"
      },
      "source": [
        "# <img src=\"https://github.com/JuliaLang/julia-logo-graphics/raw/master/images/julia-logo-color.png\" height=\"100\" /> _Colab Notebook Template_\n",
        "\n",
        "## Instructions\n",
        "1. Work on a copy of this notebook: _File_ > _Save a copy in Drive_ (you will need a Google account). Alternatively, you can download the notebook using _File_ > _Download .ipynb_, then upload it to [Colab](https://colab.research.google.com/).\n",
        "2. If you need a GPU: _Runtime_ > _Change runtime type_ > _Harware accelerator_ = _GPU_.\n",
        "3. Execute the following cell (click on it and press Ctrl+Enter) to install Julia, IJulia and other packages (if needed, update `JULIA_VERSION` and the other parameters). This takes a couple of minutes.\n",
        "4. Reload this page (press Ctrl+R, or ⌘+R, or the F5 key) and continue to the next section.\n",
        "\n",
        "_Notes_:\n",
        "* If your Colab Runtime gets reset (e.g., due to inactivity), repeat steps 2, 3 and 4.\n",
        "* After installation, if you want to change the Julia version or activate/deactivate the GPU, you will need to reset the Runtime: _Runtime_ > _Factory reset runtime_ and repeat steps 3 and 4."
      ]
    },
    {
      "cell_type": "code",
      "source": [],
      "metadata": {
        "id": "6HrxTZ-D6YUt"
      },
      "execution_count": null,
      "outputs": []
    },
    {
      "cell_type": "code",
      "source": [
        "using PyPlot\n",
        "using Printf\n",
        "using LinearAlgebra\n",
        "using Flux, DiffEqFlux\n",
        "using OrdinaryDiffEq\n",
        "using ComponentArrays\n",
        "using Random\n",
        "using BSON: @save, @load\n",
        "using Optimization, OptimizationOptimJL, OptimizationOptimisers\n",
        "using Statistics\n",
        "using Plots\n",
        "gr()\n",
        "\n",
        "# Ensure variables are defined only once\n",
        "let\n",
        "    # Parameters\n",
        "    global ω = 1.0            # Harmonic oscillator frequency\n",
        "    global X = π              # Spatial domain: [-π, π]\n",
        "    global T = 2π             # Time domain: [0, 2π]\n",
        "    global dx = 0.02          # Spatial step\n",
        "    global dt = 0.02          # Time step\n",
        "    global x = collect(-X:dx:X)\n",
        "    global t = collect(0:dt:T)\n",
        "    global Nx = length(x)\n",
        "    global Nt = length(t)\n",
        "end\n",
        "\n",
        "# Save folder\n",
        "save_folder = \"tdse_data\"\n",
        "if isdir(save_folder)\n",
        "    rm(save_folder, recursive=true)\n",
        "end\n",
        "mkdir(save_folder)\n",
        "\n",
        "# Hermite polynomials for analytical solution\n",
        "function hermite(n, x)\n",
        "    if n == 0\n",
        "        return 1.0\n",
        "    elseif n == 1\n",
        "        return 2x\n",
        "    else\n",
        "        H_prev2 = 1.0\n",
        "        H_prev1 = 2x\n",
        "        for i in 2:n\n",
        "            H_current = 2x * H_prev1 - 2(i-1) * H_prev2\n",
        "            H_prev2 = H_prev1\n",
        "            H_prev1 = H_current\n",
        "        end\n",
        "        return H_prev1\n",
        "    end\n",
        "end\n",
        "\n",
        "# Eigenstates of the harmonic oscillator\n",
        "function φ_n(n, x, ω)\n",
        "    norm = sqrt(sqrt(ω/π) / (2^n * factorial(n)))\n",
        "    return norm * hermite(n, sqrt(ω)*x) * exp(-ω*x^2/2)\n",
        "end\n",
        "\n",
        "# Initial condition: superposition of ground and first excited states\n",
        "u0 = @. (φ_n(0, x, ω) + φ_n(1, x, ω)) / sqrt(2)\n",
        "v0 = zeros(Nx)\n",
        "u0[1] = 0.0; u0[end] = 0.0\n",
        "v0[1] = 0.0; v0[end] = 0.0\n",
        "\n",
        "# Laplacian matrix with Dirichlet BC\n",
        "lap = diagm(0 => -2.0 * ones(Nx),\n",
        "            1 => ones(Nx-1),\n",
        "           -1 => ones(Nx-1)) / dx^2\n",
        "lap[1, :] .= 0.0\n",
        "lap[1, 1] = -2.0 / dx^2\n",
        "lap[1, 2] = 1.0 / dx^2\n",
        "lap[end, :] .= 0.0\n",
        "lap[end, end] = -2.0 / dx^2\n",
        "lap[end, end-1] = 1.0 / dx^2\n",
        "\n",
        "# TDSE RHS for true solution\n",
        "function tdse_rhs!(du, u_vec, p, t)\n",
        "    u = @view u_vec[1:Nx]\n",
        "    v = @view u_vec[Nx+1:end]\n",
        "    d2u_dx2 = lap * u\n",
        "    d2v_dx2 = lap * v\n",
        "    @inbounds for i in 1:Nx\n",
        "        pot = 0.5 * ω^2 * x[i]^2\n",
        "        du[i] = -0.5 * d2v_dx2[i] + pot * v[i]\n",
        "        du[Nx+i] = 0.5 * d2u_dx2[i] - pot * u[i]\n",
        "    end\n",
        "    du[1] = 0.0; du[Nx] = 0.0\n",
        "    du[Nx+1] = 0.0; du[2*Nx] = 0.0\n",
        "end\n",
        "\n",
        "# Solve true TDSE\n",
        "prob_data = ODEProblem(tdse_rhs!, vcat(u0, v0), (0.0, T))\n",
        "sol_data = solve(prob_data, Tsit5(), saveat=t, abstol=1e-10, reltol=1e-10)\n",
        "ode_data = Array(sol_data)\n",
        "u_data = ode_data[1:Nx, :]\n",
        "v_data = ode_data[Nx+1:end, :]\n",
        "prob_density = u_data.^2 + v_data.^2\n",
        "\n",
        "# Plot true solution\n",
        "fig = figure(figsize=(8,3))\n",
        "sub1 = fig.add_subplot(1,2,1)\n",
        "pcolormesh(x, t, prob_density', cmap=\"viridis\")\n",
        "sub1.set_xlabel(\"x\")\n",
        "sub1.set_ylabel(\"t\")\n",
        "fig.colorbar(PyPlot.gci(), ax=sub1)\n",
        "sub1.set_title(\"True |ψ|²\")\n",
        "\n",
        "sub2 = fig.add_subplot(1,2,2)\n",
        "for i in 1:10:Nt\n",
        "    sub2.plot(x, prob_density[:, i], label=@sprintf(\"t=%.2f\", t[i]))\n",
        "end\n",
        "sub2.set_xlabel(\"x\")\n",
        "sub2.set_ylabel(\"|ψ|²\")\n",
        "sub2.legend(fontsize=7, loc=\"upper left\", bbox_to_anchor=(1,1))\n",
        "sub2.set_title(\"Slices of solution\")\n",
        "tight_layout()\n",
        "fig.savefig(joinpath(save_folder, \"tdse_training_data.pdf\"))\n",
        "\n",
        "# Analytical solution for comparison\n",
        "u_analytical = zeros(Nx, Nt)\n",
        "v_analytical = zeros(Nx, Nt)\n",
        "for j in 1:Nt\n",
        "    for i in 1:Nx\n",
        "        φ0 = φ_n(0, x[i], ω)\n",
        "        φ1 = φ_n(1, x[i], ω)\n",
        "        E0 = ω/2\n",
        "        E1 = 3ω/2\n",
        "        u_analytical[i,j] = (φ0 * cos(E0*t[j]) + φ1 * cos(E1*t[j])) / sqrt(2)\n",
        "        v_analytical[i,j] = (-φ0 * sin(E0*t[j]) - φ1 * sin(E1*t[j])) / sqrt(2)\n",
        "    end\n",
        "end\n",
        "u_analytical[1, :] .= 0.0; u_analytical[end, :] .= 0.0\n",
        "v_analytical[1, :] .= 0.0; v_analytical[end, :] .= 0.0\n",
        "prob_analytical = u_analytical.^2 + v_analytical.^2\n",
        "\n",
        "# Animate true solution\n",
        "anim = @animate for i in 1:Nt\n",
        "    Plots.plot(x, prob_density[:, i],\n",
        "         ylim=(0, maximum(prob_density)),\n",
        "         xlabel=\"x\", ylabel=\"|ψ(x,t)|²\",\n",
        "         title=@sprintf(\"TDSE at t = %.2f\", t[i]),\n",
        "         linewidth=3, legend=false)\n",
        "end\n",
        "gif_path = joinpath(save_folder, \"tdse_true.gif\")\n",
        "gif(anim, gif_path, fps=5)"
      ],
      "metadata": {
        "id": "vFgKJstR6YYC"
      },
      "execution_count": null,
      "outputs": []
    },
    {
      "cell_type": "code",
      "source": [],
      "metadata": {
        "id": "e8_e0uY76Yb8"
      },
      "execution_count": null,
      "outputs": []
    },
    {
      "cell_type": "code",
      "source": [],
      "metadata": {
        "id": "7x2qUlYQ6Ye7"
      },
      "execution_count": null,
      "outputs": []
    },
    {
      "cell_type": "code",
      "source": [],
      "metadata": {
        "id": "0GDWsV6g6YiM"
      },
      "execution_count": null,
      "outputs": []
    },
    {
      "cell_type": "code",
      "source": [],
      "metadata": {
        "id": "lwWsx5b_6Yla"
      },
      "execution_count": null,
      "outputs": []
    },
    {
      "cell_type": "code",
      "source": [],
      "metadata": {
        "id": "Fxlb435J6Yoc"
      },
      "execution_count": null,
      "outputs": []
    },
    {
      "cell_type": "code",
      "source": [],
      "metadata": {
        "id": "aLQKXlcW6Yrc"
      },
      "execution_count": null,
      "outputs": []
    },
    {
      "cell_type": "code",
      "source": [],
      "metadata": {
        "id": "u08PsNKY6Yua"
      },
      "execution_count": null,
      "outputs": []
    },
    {
      "cell_type": "code",
      "source": [],
      "metadata": {
        "id": "xZ7AkFa16Yxb"
      },
      "execution_count": null,
      "outputs": []
    },
    {
      "cell_type": "code",
      "source": [],
      "metadata": {
        "id": "TuOp-jNM6Y0b"
      },
      "execution_count": null,
      "outputs": []
    },
    {
      "cell_type": "code",
      "source": [],
      "metadata": {
        "id": "QcfpAqBS6Y3j"
      },
      "execution_count": null,
      "outputs": []
    },
    {
      "cell_type": "code",
      "source": [],
      "metadata": {
        "id": "nBJw2rqv6Y7E"
      },
      "execution_count": null,
      "outputs": []
    },
    {
      "cell_type": "code",
      "source": [],
      "metadata": {
        "id": "bO8hTk9Q6Y-V"
      },
      "execution_count": null,
      "outputs": []
    },
    {
      "cell_type": "code",
      "source": [],
      "metadata": {
        "id": "TU5FBMUz6ZBj"
      },
      "execution_count": null,
      "outputs": []
    }
  ]
}